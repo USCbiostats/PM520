{
  "nbformat": 4,
  "nbformat_minor": 0,
  "metadata": {
    "colab": {
      "provenance": [],
      "authorship_tag": "ABX9TyPIV3nf5QN8O1mQFvYyUqgf",
      "include_colab_link": true
    },
    "kernelspec": {
      "name": "python3",
      "display_name": "Python 3"
    },
    "language_info": {
      "name": "python"
    }
  },
  "cells": [
    {
      "cell_type": "markdown",
      "metadata": {
        "id": "view-in-github",
        "colab_type": "text"
      },
      "source": [
        "<a href=\"https://colab.research.google.com/github/USCbiostats/PM520/blob/main/Lab_0_NumericsCheatSheet.ipynb\" target=\"_parent\"><img src=\"https://colab.research.google.com/assets/colab-badge.svg\" alt=\"Open In Colab\"/></a>"
      ]
    },
    {
      "cell_type": "markdown",
      "source": [
        "# Numerics Cheat Sheet\n",
        "WIP"
      ],
      "metadata": {
        "id": "bP0KUR2Ao9T7"
      }
    },
    {
      "cell_type": "code",
      "execution_count": null,
      "metadata": {
        "id": "vF7NzB4_iPc0"
      },
      "outputs": [],
      "source": [
        "import jax\n",
        "import jax.numpy as jnp\n",
        "import jax.scipy as jsp\n",
        "import jax.scipy.special as jspec"
      ]
    },
    {
      "cell_type": "markdown",
      "source": [
        "log(1 + p) and exp(p) - 1"
      ],
      "metadata": {
        "id": "WvJjkP81inHX"
      }
    },
    {
      "cell_type": "code",
      "source": [
        "jnp.log1p\n",
        "jnp.expm1"
      ],
      "metadata": {
        "id": "gHb0K8k1ioy8"
      },
      "execution_count": null,
      "outputs": []
    },
    {
      "cell_type": "markdown",
      "source": [
        "xlogy and xlog1py"
      ],
      "metadata": {
        "id": "MT6Hf0YWiuYu"
      }
    },
    {
      "cell_type": "code",
      "source": [
        "jspec.xlogy\n",
        "jspec.xlog1py"
      ],
      "metadata": {
        "id": "s1B37Lyui1dW"
      },
      "execution_count": null,
      "outputs": []
    },
    {
      "cell_type": "markdown",
      "source": [
        "logsumexp and logaddexp"
      ],
      "metadata": {
        "id": "JYuJo_vujRYb"
      }
    },
    {
      "cell_type": "code",
      "source": [
        "jspec.logsumexp\n",
        "jnp.logaddexp"
      ],
      "metadata": {
        "id": "Q0ryX8NsjSrQ"
      },
      "execution_count": null,
      "outputs": []
    }
  ]
}