{
  "nbformat": 4,
  "nbformat_minor": 0,
  "metadata": {
    "colab": {
      "provenance": [],
      "authorship_tag": "ABX9TyO486DgCXoyHUX4IoEqJ/l0",
      "include_colab_link": true
    },
    "kernelspec": {
      "name": "python3",
      "display_name": "Python 3"
    },
    "language_info": {
      "name": "python"
    }
  },
  "cells": [
    {
      "cell_type": "markdown",
      "metadata": {
        "id": "view-in-github",
        "colab_type": "text"
      },
      "source": [
        "<a href=\"https://colab.research.google.com/github/USCbiostats/PM520/blob/main/Lab_2_Sampling.ipynb\" target=\"_parent\"><img src=\"https://colab.research.google.com/assets/colab-badge.svg\" alt=\"Open In Colab\"/></a>"
      ]
    },
    {
      "cell_type": "code",
      "source": [
        "import jax\n",
        "import jax.numpy as jnp\n",
        "import jax.random as rdm\n",
        "\n",
        "# random variables in JAX\n",
        "key = rdm.PRNGKey(0)\n",
        "\n",
        "key, y_key = rdm.split(key)\n",
        "N = 5\n",
        "mu_y = 50\n",
        "std_y = 100\n",
        "y = mu_y + std_y * rdm.normal(y_key, shape=(N,)) # y_i ~ N(mu_y, std_y)\n",
        "print(f\"y = {y}\")\n",
        "\n",
        "P = 100\n",
        "key, x_key = rdm.split(key)\n",
        "X = rdm.normal(x_key, shape=(N,P))\n",
        "print(f\"shape(x) = {X.shape}\")"
      ],
      "metadata": {
        "id": "oUiwVMCfJAWw",
        "colab": {
          "base_uri": "https://localhost:8080/"
        },
        "outputId": "40626513-2f36-451d-993e-c3f60581e33b"
      },
      "execution_count": 1,
      "outputs": [
        {
          "output_type": "stream",
          "name": "stdout",
          "text": [
            "y = [ -95.8194  -154.7044   254.73392  166.84094  -47.58364]\n",
            "shape(x) = (5, 100)\n"
          ]
        }
      ]
    }
  ]
}