{
  "nbformat": 4,
  "nbformat_minor": 0,
  "metadata": {
    "colab": {
      "provenance": [],
      "authorship_tag": "ABX9TyNQWTwfyL7wvLmACBIQs8pz",
      "include_colab_link": true
    },
    "kernelspec": {
      "name": "python3",
      "display_name": "Python 3"
    },
    "language_info": {
      "name": "python"
    }
  },
  "cells": [
    {
      "cell_type": "markdown",
      "metadata": {
        "id": "view-in-github",
        "colab_type": "text"
      },
      "source": [
        "<a href=\"https://colab.research.google.com/github/USCbiostats/PM520/blob/main/Lab_1_Introduction.ipynb\" target=\"_parent\"><img src=\"https://colab.research.google.com/assets/colab-badge.svg\" alt=\"Open In Colab\"/></a>"
      ]
    },
    {
      "cell_type": "markdown",
      "source": [
        "# PM520, Lab 1: Introduction to Python\n",
        "For an excellent review of Python, please check out the excellent resource [Learn Python in Y Minutes](https://learnxinyminutes.com/docs/python/)."
      ],
      "metadata": {
        "id": "clhG00dyC4_b"
      }
    },
    {
      "cell_type": "markdown",
      "source": [
        "## 1. JAX and JAX.Numpy\n",
        "[JAX](https://github.com/google/jax) is a Google-backed library to enable automatic differentiation of Python code, while supporting ultra-fast runtime due to \"Just-In-Time\" (i.e. JIT) compilation from their custom bytecode (i.e. XLA). Hence JAX = JIT + AutoDiff + XLA.\n",
        "\n",
        "However, before we can use JAX we'll need to install it. To do that, we'll use the Python package management tool `pip`. To call `pip` in colab (or any terminal function) we need to prepend the command with a `!`.\n"
      ],
      "metadata": {
        "id": "iz7dK2s8GKcx"
      }
    },
    {
      "cell_type": "code",
      "source": [
        "!pip install jax"
      ],
      "metadata": {
        "id": "CJQIOPlDGNcZ",
        "colab": {
          "base_uri": "https://localhost:8080/"
        },
        "outputId": "e51eff16-4a34-4c9d-ff88-af5b55e36c4b"
      },
      "execution_count": 1,
      "outputs": [
        {
          "output_type": "stream",
          "name": "stdout",
          "text": [
            "Requirement already satisfied: jax in /usr/local/lib/python3.11/dist-packages (0.4.33)\n",
            "Requirement already satisfied: jaxlib<=0.4.33,>=0.4.33 in /usr/local/lib/python3.11/dist-packages (from jax) (0.4.33)\n",
            "Requirement already satisfied: ml-dtypes>=0.2.0 in /usr/local/lib/python3.11/dist-packages (from jax) (0.4.1)\n",
            "Requirement already satisfied: numpy>=1.24 in /usr/local/lib/python3.11/dist-packages (from jax) (1.26.4)\n",
            "Requirement already satisfied: opt-einsum in /usr/local/lib/python3.11/dist-packages (from jax) (3.4.0)\n",
            "Requirement already satisfied: scipy>=1.10 in /usr/local/lib/python3.11/dist-packages (from jax) (1.13.1)\n"
          ]
        }
      ]
    },
    {
      "cell_type": "markdown",
      "source": [
        "Let's practice importing JAX and using the numpy implementation backed by JAX. numpy is a Python library for n-dimensional arrays. Here we are using JAX's implementation, which will enable us to take advantage of all of JAX's features."
      ],
      "metadata": {
        "id": "zzehFq5gIn4R"
      }
    },
    {
      "cell_type": "code",
      "source": [
        "import jax\n",
        "import jax.numpy as jnp\n",
        "import jax.random as rdm\n",
        "\n",
        "# let's practice some numpy tricks\n",
        "x = jnp.arange(9)\n",
        "y = jnp.ones(9)\n",
        "print(f\"x = {x} | y = {y}\")\n",
        "\n",
        "z = x + y\n",
        "print(f\"z = {z} | x + 1 = {x + 1}\")\n",
        "\n",
        "\n",
        "P = 4\n",
        "i = jnp.eye(P)\n",
        "a = 2 * jnp.ones(P)\n",
        "print(f\"i = {i} | a = {a}\")\n",
        "\n",
        "# is this mat/vec mult?\n",
        "b = i * a\n",
        "print(f\"b = {b}\")\n",
        "\n",
        "A = jnp.array([[5., 1], [1, 5]])\n",
        "a = jnp.array([3, 4])\n",
        "print(f\"A = {A}\")\n",
        "b = A * a\n",
        "print(f\"b = {b}\")\n",
        "b = a * A\n",
        "print(f\"b = {b}\")\n",
        "\n",
        "# nope! b is matrix; mat/vec mult => vec\n",
        "b = A @ a\n",
        "print(f\"b = {b}\")\n",
        "b = jnp.dot(A, a)\n",
        "print(f\"b = {b}\")"
      ],
      "metadata": {
        "id": "gUOdJ5sFI4jv"
      },
      "execution_count": 3,
      "outputs": []
    },
    {
      "cell_type": "markdown",
      "source": [
        "## 2. Indexing, broadcasting rules, and dot products\n",
        "\n",
        "Let's practice how to index, slice, and broadcast jax arrays."
      ],
      "metadata": {
        "id": "sLXulMUCKFXq"
      }
    },
    {
      "cell_type": "code",
      "source": [
        "# indexing arrays\n",
        "shape = (3,3)\n",
        "X = jnp.arange(9).reshape(shape)\n",
        "\n",
        "# what is the shape of x?\n",
        "print(f\"shape(x) = {X.shape}\")\n",
        "\n",
        "# indexing and 'slicing'\n",
        "print(f\"X = {X}\")\n",
        "print(f\"1st row of x {X[0]}\")\n",
        "print(f\"1st row of x {X[0,:]}\")\n",
        "print(f\"1st col of x {X[:,0]}\")\n",
        "\n",
        "# arrays can be n-dimensional and not just vectors/matrices!\n",
        "X = jnp.arange(27).reshape((3,3,3))\n",
        "print(f\"shape(x) = {X.shape}\")\n",
        "print(f\"X = {X}\")\n",
        "print(f\"1st matrix of x {X[0]}\")\n",
        "print(f\"1st matrix of x {X[0,:]}\")\n",
        "print(f\"1st row of each matrix of x {X[:,0,:]}\")"
      ],
      "metadata": {
        "id": "jThdMTR8ME7p",
        "colab": {
          "base_uri": "https://localhost:8080/"
        },
        "outputId": "6ae9c412-e83d-4378-a8d0-cb8ec6951e9d"
      },
      "execution_count": 25,
      "outputs": [
        {
          "output_type": "stream",
          "name": "stdout",
          "text": [
            "1st row of each matrix of x [[ 0  1  2]\n",
            " [ 9 10 11]\n",
            " [18 19 20]]\n"
          ]
        }
      ]
    },
    {
      "cell_type": "markdown",
      "source": [
        "## 3. Just-in-time compilation\n",
        "*Just-in-time* or *JIT* is a compilation technique that allows for code to be analyzed and compiled at runtime."
      ],
      "metadata": {
        "id": "cRXQMobiKauX"
      }
    },
    {
      "cell_type": "code",
      "source": [
        "# JIT warm up\n",
        "def my_func(x):\n",
        "  return jnp.sum(x ** 2)\n",
        "\n",
        "# `jax.jit` takes as input a function and returns the JIT-compiled function\n",
        "my_func_jit = jax.jit(my_func)\n",
        "\n",
        "# results should be the same\n",
        "D = 50_000\n",
        "orig_result = my_func(jnp.ones(4))\n",
        "jit_result = my_func_jit(jnp.ones(4))\n",
        "is_same = jnp.allclose(orig_result, jit_result)\n",
        "print(f\"Results are same? {is_same}\")\n",
        "\n",
        "%timeit my_func(jnp.ones(D)) # let's measure time\n",
        "%timeit my_func_jit(jnp.ones(D)).block_until_ready() # measure using JIT; need to block until result is returned\n",
        "\n",
        "# results computed faster in the JIT compiled function! We did no extra work\n",
        "# except wrap our function using a JAX command! Now let's see how to\n",
        "# use the decorator sytax to handle that automatically for us\n",
        "\n",
        "@jax.jit\n",
        "def my_new_func(x):\n",
        "  return jnp.sum(x ** 2)\n",
        "\n",
        "# the @jax.jit above the function definition informs the Python interpreter\n",
        "# to \"decorate\" `my_new_func` with the `jax.jit` function, which will automatically\n",
        "# wrap my_new_func in the JIT compiled version. That is, anytime we call `my_new_func`\n",
        "# we're actually calling the same thing as `jax.jit(my_new_func)`\n",
        "%timeit my_new_func(jnp.ones(4)).block_until_ready()\n",
        "\n",
        "# the average time is similar to the above `my_func_jit` which shows that we're\n",
        "# calling the JIT'd version.\n",
        "\n",
        "@jax.jit\n",
        "def other_func(x):\n",
        "  return jnp.mean(x ** 2)\n",
        "\n",
        "with jax.log_compiles():\n",
        "  print(\"STARTING\")\n",
        "  four_res = other_func(jnp.ones(4))\n",
        "  print(\"NOW 5\")\n",
        "  five_res = other_func(jnp.ones(5))\n",
        "  print(\"NOW (3,3)\")\n",
        "  mat_res = other_func(jnp.ones((3,3)))\n",
        "\n",
        "print(f\"{four_res}\")\n",
        "print(f\"{five_res}\")\n",
        "print(f\"{mat_res}\")"
      ],
      "metadata": {
        "colab": {
          "base_uri": "https://localhost:8080/"
        },
        "id": "E-eExdElehhL",
        "outputId": "c5f21d5d-4fc3-4b64-fbb1-a87714805fe8"
      },
      "execution_count": 35,
      "outputs": [
        {
          "output_type": "stream",
          "name": "stderr",
          "text": [
            "WARNING:jax._src.dispatch:Finished tracing + transforming other_func for pjit in 0.001352072 sec\n",
            "WARNING:jax._src.interpreters.pxla:Compiling other_func with global shapes and types [ShapedArray(float32[4])]. Argument mapping: (UnspecifiedValue,).\n",
            "WARNING:jax._src.dispatch:Finished jaxpr to MLIR module conversion jit(other_func) in 0.005383492 sec\n",
            "WARNING:jax._src.dispatch:Finished XLA compilation of jit(other_func) in 0.014654875 sec\n",
            "WARNING:jax._src.dispatch:Finished tracing + transforming other_func for pjit in 0.000814199 sec\n",
            "WARNING:jax._src.interpreters.pxla:Compiling other_func with global shapes and types [ShapedArray(float32[5])]. Argument mapping: (UnspecifiedValue,).\n",
            "WARNING:jax._src.dispatch:Finished jaxpr to MLIR module conversion jit(other_func) in 0.004714489 sec\n",
            "WARNING:jax._src.dispatch:Finished XLA compilation of jit(other_func) in 0.015123606 sec\n",
            "WARNING:jax._src.dispatch:Finished tracing + transforming other_func for pjit in 0.000869989 sec\n",
            "WARNING:jax._src.interpreters.pxla:Compiling other_func with global shapes and types [ShapedArray(float32[3,3])]. Argument mapping: (UnspecifiedValue,).\n",
            "WARNING:jax._src.dispatch:Finished jaxpr to MLIR module conversion jit(other_func) in 0.006492853 sec\n",
            "WARNING:jax._src.dispatch:Finished XLA compilation of jit(other_func) in 0.016990423 sec\n"
          ]
        },
        {
          "output_type": "stream",
          "name": "stdout",
          "text": [
            "STARTING\n",
            "NOW 5\n",
            "NOW (3,3)\n",
            "1.0\n",
            "1.0\n",
            "1.0\n"
          ]
        }
      ]
    },
    {
      "cell_type": "markdown",
      "source": [
        "## 4. JAX control primitives"
      ],
      "metadata": {
        "id": "rn0OTxT0Kuis"
      }
    },
    {
      "cell_type": "code",
      "source": [
        "@jax.jit\n",
        "def slow_ssq(a):\n",
        "  res = 0.\n",
        "  for x in a:\n",
        "    res = res + x ** 2\n",
        "  return res\n",
        "\n",
        "a = jnp.arange(50_000).astype(float)\n",
        "\n",
        "print(f\"res = {a @ a}\")\n",
        "\n",
        "import jax.lax as lax\n",
        "\n",
        "def my_body_func(i, val):\n",
        "  x, cur_res = val\n",
        "  return x, cur_res + x[i] ** 2\n",
        "\n",
        "with jax.log_compiles():\n",
        "  _, res = lax.fori_loop(0, len(a), my_body_func, (a, 0.))\n",
        "print(f\"res = {res}\")"
      ],
      "metadata": {
        "id": "3DEm1zZOKxK_",
        "colab": {
          "base_uri": "https://localhost:8080/"
        },
        "outputId": "4df613be-3cff-4178-dbbd-4bb771799327"
      },
      "execution_count": 14,
      "outputs": [
        {
          "output_type": "stream",
          "name": "stderr",
          "text": [
            "WARNING:jax._src.dispatch:Finished tracing + transforming scan for pjit in 0.000343561 sec\n",
            "WARNING:jax._src.interpreters.pxla:Compiling scan with global shapes and types [ShapedArray(int32[], weak_type=True), ShapedArray(float32[50000]), ShapedArray(float32[], weak_type=True)]. Argument mapping: (UnspecifiedValue, UnspecifiedValue, UnspecifiedValue).\n",
            "WARNING:jax._src.dispatch:Finished jaxpr to MLIR module conversion jit(scan) in 0.013267994 sec\n",
            "WARNING:jax._src.dispatch:Finished XLA compilation of jit(scan) in 0.045040131 sec\n"
          ]
        },
        {
          "output_type": "stream",
          "name": "stdout",
          "text": [
            "res = 41665456766976.0\n",
            "res = 41665456766976.0\n"
          ]
        }
      ]
    }
  ]
}