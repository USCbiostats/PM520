{
  "nbformat": 4,
  "nbformat_minor": 0,
  "metadata": {
    "colab": {
      "provenance": [],
      "authorship_tag": "ABX9TyOxJldUbBtwWxODdk8AXPcD",
      "include_colab_link": true
    },
    "kernelspec": {
      "name": "python3",
      "display_name": "Python 3"
    },
    "language_info": {
      "name": "python"
    }
  },
  "cells": [
    {
      "cell_type": "markdown",
      "metadata": {
        "id": "view-in-github",
        "colab_type": "text"
      },
      "source": [
        "<a href=\"https://colab.research.google.com/github/USCbiostats/PM520/blob/main/Lab_1_Introduction.ipynb\" target=\"_parent\"><img src=\"https://colab.research.google.com/assets/colab-badge.svg\" alt=\"Open In Colab\"/></a>"
      ]
    },
    {
      "cell_type": "markdown",
      "source": [
        "# PM520, Lab 1: Introduction to Python\n",
        "For an excellent review of Python, please check out the excellent resource [Learn Python in Y Minutes](https://learnxinyminutes.com/docs/python/)."
      ],
      "metadata": {
        "id": "clhG00dyC4_b"
      }
    },
    {
      "cell_type": "markdown",
      "source": [
        "## 1. JAX and JAX.Numpy\n",
        "[JAX](https://github.com/google/jax) is a Google-backed library to enable automatic differentiation of Python code, while supporting ultra-fast runtime due to \"Just-In-Time\" (i.e. JIT) compilation from their custom bytecode (i.e. XLA). Hence JAX = JIT + AutoDiff + XLA.\n",
        "\n",
        "However, before we can use JAX we'll need to install it. To do that, we'll use the Python package management tool `pip`. To call `pip` in colab (or any terminal function) we need to prepend the command with a `!`.\n"
      ],
      "metadata": {
        "id": "iz7dK2s8GKcx"
      }
    },
    {
      "cell_type": "code",
      "source": [
        "!pip install jax"
      ],
      "metadata": {
        "id": "CJQIOPlDGNcZ",
        "colab": {
          "base_uri": "https://localhost:8080/"
        },
        "outputId": "d5f74a1c-7d07-4be1-c781-9309b3d34737"
      },
      "execution_count": null,
      "outputs": [
        {
          "output_type": "stream",
          "name": "stdout",
          "text": [
            "Requirement already satisfied: jax in /usr/local/lib/python3.10/dist-packages (0.4.23)\n",
            "Requirement already satisfied: ml-dtypes>=0.2.0 in /usr/local/lib/python3.10/dist-packages (from jax) (0.2.0)\n",
            "Requirement already satisfied: numpy>=1.22 in /usr/local/lib/python3.10/dist-packages (from jax) (1.23.5)\n",
            "Requirement already satisfied: opt-einsum in /usr/local/lib/python3.10/dist-packages (from jax) (3.3.0)\n",
            "Requirement already satisfied: scipy>=1.9 in /usr/local/lib/python3.10/dist-packages (from jax) (1.11.4)\n"
          ]
        }
      ]
    },
    {
      "cell_type": "markdown",
      "source": [
        "Let's practice importing JAX and using the numpy implementation backed by JAX. numpy is a Python library for n-dimensional arrays. Here we are using JAX's implementation, which will enable us to take advantage of all of JAX's features."
      ],
      "metadata": {
        "id": "zzehFq5gIn4R"
      }
    },
    {
      "cell_type": "code",
      "source": [
        "import jax\n",
        "import jax.numpy as jnp\n",
        "import jax.random as rdm\n",
        "\n",
        "# let's practice some numpy tricks\n",
        "x = jnp.arange(9)\n",
        "y = jnp.ones(9)\n",
        "print(f\"x = {x} | y = {y}\")\n",
        "\n",
        "z = x + y\n",
        "print(f\"z = {z} | x + 1 = {x + 1}\")\n",
        "\n",
        "P = 4\n",
        "i = jnp.eye(P)\n",
        "a = 2 * jnp.ones(P)\n",
        "print(f\"i = {i} | a = {a}\")\n",
        "\n",
        "# is this mat/vec mult?\n",
        "b = i * a\n",
        "print(f\"b = {b}\")\n",
        "\n",
        "A = jnp.array([[5., 1], [1, 5]])\n",
        "a = 2 * jnp.ones(2)\n",
        "print(f\"A = {A}\")\n",
        "b = A * a\n",
        "print(f\"b = {b}\")\n",
        "\n",
        "# nope! b is matrix; mat/vec mult => vec\n",
        "b = A @ a\n",
        "print(f\"b = {b}\")\n",
        "b = jnp.dot(A, a)\n",
        "print(f\"b = {b}\")"
      ],
      "metadata": {
        "id": "gUOdJ5sFI4jv",
        "colab": {
          "base_uri": "https://localhost:8080/"
        },
        "outputId": "701bfcd7-b5e8-4dd9-eb59-73f2680e0402"
      },
      "execution_count": null,
      "outputs": [
        {
          "output_type": "stream",
          "name": "stdout",
          "text": [
            "x = [0 1 2 3 4 5 6 7 8] | y = [1. 1. 1. 1. 1. 1. 1. 1. 1.]\n",
            "z = [1. 2. 3. 4. 5. 6. 7. 8. 9.] | x + 1 = [1 2 3 4 5 6 7 8 9]\n",
            "i = [[1. 0. 0. 0.]\n",
            " [0. 1. 0. 0.]\n",
            " [0. 0. 1. 0.]\n",
            " [0. 0. 0. 1.]] | a = [2. 2. 2. 2.]\n",
            "b = [[2. 0. 0. 0.]\n",
            " [0. 2. 0. 0.]\n",
            " [0. 0. 2. 0.]\n",
            " [0. 0. 0. 2.]]\n",
            "A = [[5. 1.]\n",
            " [1. 5.]]\n",
            "b = [[10.  2.]\n",
            " [ 2. 10.]]\n",
            "b = [12. 12.]\n",
            "b = [12. 12.]\n"
          ]
        }
      ]
    },
    {
      "cell_type": "markdown",
      "source": [
        "## 2. Indexing, broadcasting rules, and dot products\n",
        "\n",
        "Let's practice how to index, slice, and broadcast jax arrays."
      ],
      "metadata": {
        "id": "sLXulMUCKFXq"
      }
    },
    {
      "cell_type": "code",
      "source": [
        "# indexing arrays\n",
        "X = jnp.arange(9).reshape((3,3))\n",
        "\n",
        "# what is the shape of x?\n",
        "print(f\"shape(x) = {X.shape}\")\n",
        "\n",
        "# indexing and 'slicing'\n",
        "print(f\"1st row of x {X[0]}\")\n",
        "print(f\"1st row of x {X[0,:]}\")\n",
        "print(f\"1st col of x {X[:,0]}\")\n",
        "\n",
        "# arrays can be n-dimensional and not just vectors/matrices!\n",
        "X = jnp.arange(27).reshape((3,3,3))\n",
        "print(f\"shape(x) = {X.shape}\")\n",
        "print(f\"1st matrix of x {X[0]}\")\n",
        "print(f\"1st matrix of x {X[0,:]}\")\n",
        "print(f\"1st row of each matrix of x {X[:,0,:]}\")"
      ],
      "metadata": {
        "id": "jThdMTR8ME7p",
        "colab": {
          "base_uri": "https://localhost:8080/"
        },
        "outputId": "5a8e38a2-0d4b-4e28-f73d-e7d1bf216752"
      },
      "execution_count": null,
      "outputs": [
        {
          "output_type": "stream",
          "name": "stdout",
          "text": [
            "shape(x) = (3, 3)\n",
            "1st row of x [0 1 2]\n",
            "1st row of x [0 1 2]\n",
            "1st col of x [0 3 6]\n",
            "shape(x) = (3, 3, 3)\n",
            "1st matrix of x [[0 1 2]\n",
            " [3 4 5]\n",
            " [6 7 8]]\n",
            "1st matrix of x [[0 1 2]\n",
            " [3 4 5]\n",
            " [6 7 8]]\n",
            "1st row of each matrix of x [[ 0  1  2]\n",
            " [ 9 10 11]\n",
            " [18 19 20]]\n"
          ]
        }
      ]
    },
    {
      "cell_type": "markdown",
      "source": [
        "## 3. Just-in-time compilation\n",
        "*Just-in-time* or *JIT* is a compilation technique that allows for code to be analyzed and compiled at runtime."
      ],
      "metadata": {
        "id": "cRXQMobiKauX"
      }
    },
    {
      "cell_type": "code",
      "source": [
        "# JIT warm up\n",
        "def my_func(x):\n",
        "  return jnp.sum(x ** 2)\n",
        "\n",
        "# `jax.jit` takes as input a function and returns the JIT-compiled function\n",
        "my_func_jit = jax.jit(my_func)\n",
        "\n",
        "# results should be the same\n",
        "is_same = jnp.allclose(my_func(jnp.ones(4)), my_func_jit(jnp.ones(4)))\n",
        "print(f\"Results are same? {is_same}\")\n",
        "\n",
        "%timeit my_func(jnp.ones(4)) # let's measure time\n",
        "%timeit my_func_jit(jnp.ones(4)).block_until_ready() # measure using JIT; need to block until result is returned\n",
        "\n",
        "# results computed faster in the JIT compiled function! We did no extra work\n",
        "# except wrap our function using a JAX command! Now let's see how to\n",
        "# use the decorator sytax to handle that automatically for us\n",
        "\n",
        "@jax.jit\n",
        "def my_new_func(x):\n",
        "  return jnp.sum(x ** 2)\n",
        "\n",
        "# the @jax.jit above the function definition informs the Python interpreter\n",
        "# to \"decorate\" `my_new_func` with the `jax.jit` function, which will automatically\n",
        "# wrap my_new_func in the JIT compiled version. That is, anytime we call `my_new_func`\n",
        "# we're actually calling the same thing as `jax.jit(my_new_func)`\n",
        "%timeit my_new_func(jnp.ones(4)).block_until_ready()\n",
        "\n",
        "# the average time is similar to the above `my_func_jit` which shows that we're\n",
        "# calling the JIT'd version."
      ],
      "metadata": {
        "colab": {
          "base_uri": "https://localhost:8080/"
        },
        "id": "E-eExdElehhL",
        "outputId": "bae58e3d-dcd5-447c-9ae0-2f131cdf1192"
      },
      "execution_count": null,
      "outputs": [
        {
          "output_type": "stream",
          "name": "stdout",
          "text": [
            "Results are same? True\n",
            "687 µs ± 171 µs per loop (mean ± std. dev. of 7 runs, 100 loops each)\n",
            "286 µs ± 18.9 µs per loop (mean ± std. dev. of 7 runs, 1000 loops each)\n",
            "279 µs ± 22 µs per loop (mean ± std. dev. of 7 runs, 1000 loops each)\n"
          ]
        }
      ]
    },
    {
      "cell_type": "markdown",
      "source": [
        "## 4. JAX control primitives"
      ],
      "metadata": {
        "id": "rn0OTxT0Kuis"
      }
    },
    {
      "cell_type": "code",
      "source": [
        "#TBD"
      ],
      "metadata": {
        "id": "3DEm1zZOKxK_"
      },
      "execution_count": null,
      "outputs": []
    }
  ]
}