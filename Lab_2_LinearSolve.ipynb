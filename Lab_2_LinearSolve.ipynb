{
  "nbformat": 4,
  "nbformat_minor": 0,
  "metadata": {
    "colab": {
      "provenance": [],
      "include_colab_link": true
    },
    "kernelspec": {
      "name": "python3",
      "display_name": "Python 3"
    },
    "language_info": {
      "name": "python"
    }
  },
  "cells": [
    {
      "cell_type": "markdown",
      "metadata": {
        "id": "view-in-github",
        "colab_type": "text"
      },
      "source": [
        "<a href=\"https://colab.research.google.com/github/USCbiostats/PM520/blob/main/Lab_2_LinearSolve.ipynb\" target=\"_parent\"><img src=\"https://colab.research.google.com/assets/colab-badge.svg\" alt=\"Open In Colab\"/></a>"
      ]
    },
    {
      "cell_type": "code",
      "execution_count": null,
      "metadata": {
        "id": "J01SPGCfMEma"
      },
      "outputs": [],
      "source": [
        "import jax\n",
        "import jax.numpy as jnp\n",
        "import jax.numpy.linalg as jnpla\n",
        "import jax.random as rdm\n",
        "import jax.scipy.linalg as jspla"
      ]
    },
    {
      "cell_type": "markdown",
      "source": [
        "## Sum(mer) Madness, or Solving Linear Equations\n",
        "Or how I learned not to take the inverse and perform [matrix-vector products](https://en.wikipedia.org/wiki/Operator_(mathematics)).\n",
        "\n",
        "Given $n \\times n$ non-singular (i.e. \"nice\") matrix $A$, $n \\times 1$ column-vector $b$, we can describe a [linear system of equations](https://en.wikipedia.org/wiki/System_of_linear_equations#General_form) related $A$, $b$ as $$Ax=b.$$\n",
        "Algebraically, we can solve for $x$ as, $x = A^{-1}b$, but how should we go about this [_numerically_](https://en.wikipedia.org/wiki/Numerical_linear_algebra)?"
      ],
      "metadata": {
        "id": "AO0OrFtLOxoA"
      }
    },
    {
      "cell_type": "code",
      "source": [
        "def sim_linear_system(key, n: int):\n",
        "  key, x_key = rdm.split(key)\n",
        "  A = rdm.normal(key, shape=(n,n))\n",
        "  x = rdm.normal(x_key, shape=(n,))\n",
        "  b = A @ x\n",
        "  return A, x, b\n",
        "\n",
        "seed = 0\n",
        "N = 100\n",
        "\n",
        "key = rdm.PRNGKey(seed)\n",
        "key, sim_key = rdm.split(key)\n",
        "A, x, b = sim_linear_system(sim_key, N)\n",
        "\n",
        "# solve using algebraic approach\n",
        "Ainv = jnpla.inv(A)\n",
        "x_hat_direct = Ainv @ b\n",
        "\n",
        "# solve using 'blackbox(!?)' solver\n",
        "x_hat = jnpla.solve(A, b)\n",
        "\n",
        "# measure distance from truth using 2norm\n",
        "direct_dist = jnpla.norm(x - x_hat_direct)\n",
        "solve_dist = jnpla.norm(x - x_hat)\n",
        "\n",
        "print(f\"direct dist = {direct_dist} | solve_dist = {solve_dist}\")"
      ],
      "metadata": {
        "colab": {
          "base_uri": "https://localhost:8080/"
        },
        "id": "xp93hPA4O-QL",
        "outputId": "0b8fd6a9-1b73-4d09-8fed-756ea0d63294"
      },
      "execution_count": null,
      "outputs": [
        {
          "output_type": "stream",
          "name": "stdout",
          "text": [
            "direct dist = 0.0007114441832527518 | solve_dist = 4.9217065679840744e-05\n"
          ]
        }
      ]
    },
    {
      "cell_type": "markdown",
      "source": [
        "We see less [numerical error](https://en.wikipedia.org/wiki/Numerical_analysis#Numerical_stability_and_well-posed_problems) in the solution using the 'solve' approach compared to our attempt at using the 'algebraic' solution. What happens as `N` increases?"
      ],
      "metadata": {
        "id": "oasiBAY7R3Tj"
      }
    },
    {
      "cell_type": "code",
      "source": [
        "for N in [100, 1000, 5000]:\n",
        "\n",
        "  key, sim_key = rdm.split(key)\n",
        "  A, x, b = sim_linear_system(sim_key, N)\n",
        "\n",
        "  # solve using algebraic approach\n",
        "  Ainv = jnpla.inv(A)\n",
        "  x_hat_direct = Ainv @ b\n",
        "\n",
        "  # solve using 'blackbox(!?)' solver\n",
        "  x_hat = jnpla.solve(A, b)\n",
        "\n",
        "  # measure distance from truth using 2norm\n",
        "  direct_dist = jnpla.norm(x - x_hat_direct)\n",
        "  solve_dist = jnpla.norm(x - x_hat)\n",
        "\n",
        "  print(f\"N = {N} | direct dist = {direct_dist} | solve_dist = {solve_dist}\")"
      ],
      "metadata": {
        "colab": {
          "base_uri": "https://localhost:8080/"
        },
        "id": "EoUXCHaiSH0S",
        "outputId": "ceb5989d-2d5d-46d7-f49f-f23de127742e"
      },
      "execution_count": null,
      "outputs": [
        {
          "output_type": "stream",
          "name": "stdout",
          "text": [
            "N = 100 | direct dist = 0.0002750760759226978 | solve_dist = 4.570868986775167e-05\n",
            "N = 1000 | direct dist = 0.021335802972316742 | solve_dist = 0.003495120210573077\n",
            "N = 5000 | direct dist = 0.3149307668209076 | solve_dist = 0.04819103330373764\n"
          ]
        }
      ]
    },
    {
      "cell_type": "markdown",
      "source": [
        "### How is `jnpla.solve` _solving_ the system?\n",
        "\n",
        "Numerical solvers typically perform some _decomopsition_ of $A$ into a product of structured matrices (e.g., orthogonal, lower/upper diagonal, permutations, etc.) which permit direct solutions through forward/backward solvers. A couple prominant examples are given below.\n",
        "\n",
        "[QR decomposition](https://en.wikipedia.org/wiki/QR_decomposition#Using_for_solution_to_linear_inverse_problems)\n",
        "\n",
        "\n",
        "$A = QR$ where $Q$ is $n \\times n$ [orthonormal matrix](https://en.wikipedia.org/wiki/Orthogonal_matrix) (i.e. $Q Q' = Q'Q = I$, thus $Q^{-1} = Q'$) and $R$ is $n \\times n$ upper [triangular matrix](https://en.wikipedia.org/wiki/Triangular_matrix) (i.e. $R_{ij} = 0, i < j$).\n",
        "\n",
        "Solving $Ax = b$ using QR amounts to noticing,\n",
        "$$QRx = b ⇒ Rx = Q^{-1}b = Q'b,$$ which can then be solved using a backwards solve. See, [jax.numpy.linalg.qr](https://jax.readthedocs.io/en/latest/_autosummary/jax.numpy.linalg.qr.html), [jax.scipy.linalg.solve_triangular](https://jax.readthedocs.io/en/latest/_autosummary/jax.scipy.linalg.solve_triangular.html) for reference.\n",
        "\n",
        "[LU decomposition](https://en.wikipedia.org/wiki/LU_decomposition#Solving_linear_equations)\n",
        "\n",
        "$A = PLU$ where $P$ is an $n \\times n$ [permutation matrix](https://en.wikipedia.org/wiki/Permutation_matrix), $L$ is $n \\times n$ lower triangular matrix and $U$ is an $n \\times n$ upper triangular matrix. Solving $Ax = b$ using LU amounts to, $$PLU = b ⇒ LU = P^{-1}b = P'b,$$ which can be solved with one forwards solve $Ly = P'b$ and then a backwards solve $Ux = y$. See, [jax.scipy.linalg.lu_factor](https://jax.readthedocs.io/en/latest/_autosummary/jax.scipy.linalg.lu_factor.html), [jax.scipy.linalg.lu_solve](https://jax.readthedocs.io/en/latest/_autosummary/jax.scipy.linalg.lu_solve.html) for reference.\n",
        "\n",
        "Let's try to assess which is used by `jnpla.solve` by comparing error of the solutions (not ideal, but not worst idea possible)."
      ],
      "metadata": {
        "id": "_n7nGU4VnoCc"
      }
    },
    {
      "cell_type": "code",
      "source": [
        "N = 25\n",
        "key, sim_key = rdm.split(key)\n",
        "A, x, b = sim_linear_system(sim_key, N)\n",
        "\n",
        "# solve using algebraic approach\n",
        "Ainv = jnpla.inv(A)\n",
        "x_direct = Ainv @ b\n",
        "\n",
        "# QR\n",
        "Q, R = jnpla.qr(A)\n",
        "x_qr = jspla.solve_triangular(R, Q.T @ b)\n",
        "\n",
        "# LU\n",
        "LU, P = jspla.lu_factor(A)\n",
        "x_lu = jspla.lu_solve((LU, P), b)\n",
        "\n",
        "# direct solve for baseline\n",
        "x_solve = jnpla.solve(A, b)\n",
        "\n",
        "direct_dist = jnpla.norm(x - x_direct)\n",
        "qr_dist = jnpla.norm(x - x_qr)\n",
        "lu_dist = jnpla.norm(x - x_lu)\n",
        "solve_dist = jnpla.norm(x - x_solve)\n",
        "\n",
        "\n",
        "print(f\"direct dist = {direct_dist} | qr dist = {qr_dist} | lu dist = {lu_dist} | solve_dist = {solve_dist}\")"
      ],
      "metadata": {
        "colab": {
          "base_uri": "https://localhost:8080/"
        },
        "id": "dr1IIFXjS44u",
        "outputId": "d40f02c8-2c48-46b6-bb27-bb435ed399a5"
      },
      "execution_count": null,
      "outputs": [
        {
          "output_type": "stream",
          "name": "stdout",
          "text": [
            "direct dist = 2.836631210811902e-05 | qr dist = 2.3936559955473058e-05 | lu dist = 4.185290890745819e-06 | solve_dist = 4.185290890745819e-06\n"
          ]
        }
      ]
    },
    {
      "cell_type": "markdown",
      "source": [
        "### How much time does it take to solve a system of linear equations?\n",
        "Complexity is $O(n^3)$ when $A$ is $n \\times n$ (under exact numerical precision, i.e. ignoring bit complexity of numerical results), but can we do better in terms of constants? Pls no [mention](https://en.wikipedia.org/wiki/Computational_complexity_of_matrix_multiplication#Matrix_multiplication_exponent) of $O(n^\\omega)$.\n",
        "\n",
        "What if we know that our matrix $A$ has additional structure from the start?\n",
        "\n",
        "[Cholesky decomposition](https://en.wikipedia.org/wiki/Cholesky_decomposition)\n",
        "\n",
        "When $A$ is an $n \\times n$ [_positive definite_](https://en.wikipedia.org/wiki/Definite_matrix) (i.e. $x'Ax \\geq 0, ∀ x \\in R^n$), the Cholesky decomposition gives $A = LL'$ where $L$ is an $n \\times n$ lower triangular matrix.\n",
        "\n",
        "Solving $Ax=b$ using Cholesky decomposition amounts to, $$Ax=b ⇒LL'x = b,$$\n",
        "which  can be solved with one forwards solve $Ly=b$ and then a backwards solve $L'x=y$. This will be roughly twice as fast compared with LU decomposition approaches. See [jax.scipy.linalg.cho_factor](https://jax.readthedocs.io/en/latest/_autosummary/jax.scipy.linalg.cho_factor.html) and [jax.scipy.linalg.cho_solve](https://jax.readthedocs.io/en/latest/_autosummary/jax.scipy.linalg.cho_solve.html) for reference.\n",
        "\n",
        "Let's compare the error of the solve solutions."
      ],
      "metadata": {
        "id": "uCM1v4ATZlC8"
      }
    },
    {
      "cell_type": "code",
      "source": [
        "def sim_sym_linear_system(key, n: int):\n",
        "  key, x_key = rdm.split(key, 2)\n",
        "  # sample larger row to improve conditioning\n",
        "  A = rdm.normal(key, shape=(2*n,n))\n",
        "  # rescale back to n x n\n",
        "  A = A.T @ A\n",
        "  x = rdm.normal(x_key, shape=(n,))\n",
        "  b = A @ x\n",
        "  return A, x, b\n",
        "\n",
        "key, sim_key = rdm.split(key)\n",
        "N = 500\n",
        "\n",
        "A, x, b = sim_sym_linear_system(sim_key, N)\n",
        "\n",
        "# solve using algebraic approach\n",
        "Ainv = jnpla.inv(A)\n",
        "x_direct = Ainv @ b\n",
        "\n",
        "# QR\n",
        "Q, R = jnpla.qr(A)\n",
        "x_qr = jspla.solve_triangular(R, Q.T @ b)\n",
        "\n",
        "# Cholesky\n",
        "L, lower = jspla.cho_factor(A)\n",
        "x_cho = jspla.cho_solve((L, lower), b)\n",
        "\n",
        "# direct solve for baseline\n",
        "x_solve = jnpla.solve(A, b)\n",
        "\n",
        "direct_dist = jnpla.norm(x - x_direct)\n",
        "qr_dist = jnpla.norm(x - x_qr)\n",
        "cho_dist = jnpla.norm(x - x_cho)\n",
        "solve_dist = jnpla.norm(x - x_solve)\n",
        "\n",
        "print(f\"direct dist = {direct_dist} | qr dist = {qr_dist} | cho dist = {cho_dist} | solve_dist = {solve_dist}\")"
      ],
      "metadata": {
        "colab": {
          "base_uri": "https://localhost:8080/"
        },
        "id": "68jTTKDDCt7O",
        "outputId": "b8b1d771-405b-4510-eb95-f5274143ec15"
      },
      "execution_count": null,
      "outputs": [
        {
          "output_type": "stream",
          "name": "stdout",
          "text": [
            "direct dist = 2.731403219513595e-05 | qr dist = 2.822048554662615e-05 | cho dist = 1.8279568394063972e-05 | solve_dist = 1.833433452702593e-05\n"
          ]
        }
      ]
    },
    {
      "cell_type": "markdown",
      "source": [
        "### LAB portion\n",
        "\n",
        "What is the average runtime for each of these operations?\n",
        "Hint: use the `%timeit` magic command and [`block_until_ready`](https://jax.readthedocs.io/en/latest/_autosummary/jax.block_until_ready.html) function."
      ],
      "metadata": {
        "id": "XDtGoVs_GyeP"
      }
    },
    {
      "cell_type": "code",
      "source": [
        "N = 1000\n",
        "key, sim_key = rdm.split(key)\n",
        "A, x, b = sim_sym_linear_system(sim_key, N)\n",
        "\n",
        "# solve using algebraic approach\n",
        "def _direct(A, b):\n",
        "  pass\n",
        "\n",
        "# QR\n",
        "def _qr(A, b):\n",
        "  pass\n",
        "\n",
        "# Cholesky\n",
        "def _cholesky(A, b):\n",
        "  pass\n",
        "\n",
        "\n",
        "%timeit x_solve = jnpla.solve(A, b).block_until_ready()\n",
        "%timeit x_direct = _direct(A, b).block_until_ready()\n",
        "%timeit x_qr = _qr(A, b).block_until_ready()\n",
        "%timeit x_cho = _cholesky(A, b).block_until_ready()"
      ],
      "metadata": {
        "colab": {
          "base_uri": "https://localhost:8080/"
        },
        "id": "v65o0jsHG1Rt",
        "outputId": "de588426-3821-4cdd-e46c-6187ef9bd632"
      },
      "execution_count": null,
      "outputs": [
        {
          "output_type": "stream",
          "name": "stdout",
          "text": [
            "48 ms ± 15.1 ms per loop (mean ± std. dev. of 7 runs, 10 loops each)\n"
          ]
        }
      ]
    },
    {
      "cell_type": "markdown",
      "source": [
        "Great! Cholesky is the fastest and has error on par with the general `solve` command. What can we gain in terms of speed by using [`jit`](https://jax.readthedocs.io/en/latest/_autosummary/jax.jit.html)?"
      ],
      "metadata": {
        "id": "_ORvGCONKJV8"
      }
    },
    {
      "cell_type": "code",
      "source": [
        "N = 1000\n",
        "key, sim_key = rdm.split(key)\n",
        "A, x, b = sim_sym_linear_system(sim_key, N)\n",
        "\n",
        "jit_direct = jax.jit(_direct)\n",
        "jit_qr = jax.jit(_qr)\n",
        "jit_cholesky = jax.jit(_cholesky)\n",
        "jit_solve = jax.jit(jnpla.solve)\n",
        "\n",
        "%timeit x_direct = jit_direct(A, b).block_until_ready()\n",
        "%timeit x_qr = jit_qr(A, b).block_until_ready()\n",
        "%timeit x_cho = jit_cholesky(A, b).block_until_ready()\n",
        "%timeit x_solve = jit_solve(A, b).block_until_ready()"
      ],
      "metadata": {
        "id": "zcf4ynyAKSYY"
      },
      "execution_count": null,
      "outputs": []
    },
    {
      "cell_type": "markdown",
      "source": [
        "Not much improvement! What gives?\n",
        "\n",
        "Turns out, JAX is already JIT compiling these lower level functions (e.g., solve, decompositions) and our code is not much larger in scope, thus benefit not clearly demonstrated. The takeaway here is not that JIT doesn't help, but rather, to get the most out of JIT'd code, we should apply it to larger programs/functions, which can better optimize the computational graph.\n",
        "\n",
        "## And now for something completely different... [Lineax](https://docs.kidger.site/lineax/)\n",
        "Library for solving linear systems and related linear computational tasks."
      ],
      "metadata": {
        "id": "E1ZgjnttNJqv"
      }
    },
    {
      "cell_type": "code",
      "source": [
        "!pip install lineax"
      ],
      "metadata": {
        "colab": {
          "base_uri": "https://localhost:8080/"
        },
        "id": "OvHjwTYmNE-F",
        "outputId": "d5894f90-fe3a-498c-b052-04e33b1e1343"
      },
      "execution_count": null,
      "outputs": [
        {
          "output_type": "stream",
          "name": "stdout",
          "text": [
            "Collecting lineax\n",
            "  Downloading lineax-0.0.4-py3-none-any.whl (65 kB)\n",
            "\u001b[2K     \u001b[90m━━━━━━━━━━━━━━━━━━━━━━━━━━━━━━━━━━━━━━━━\u001b[0m \u001b[32m65.3/65.3 kB\u001b[0m \u001b[31m1.3 MB/s\u001b[0m eta \u001b[36m0:00:00\u001b[0m\n",
            "\u001b[?25hCollecting equinox>=0.11.0 (from lineax)\n",
            "  Downloading equinox-0.11.3-py3-none-any.whl (167 kB)\n",
            "\u001b[2K     \u001b[90m━━━━━━━━━━━━━━━━━━━━━━━━━━━━━━━━━━━━━━━━\u001b[0m \u001b[32m167.9/167.9 kB\u001b[0m \u001b[31m3.7 MB/s\u001b[0m eta \u001b[36m0:00:00\u001b[0m\n",
            "\u001b[?25hRequirement already satisfied: jax>=0.4.13 in /usr/local/lib/python3.10/dist-packages (from lineax) (0.4.23)\n",
            "Collecting jaxtyping>=0.2.20 (from lineax)\n",
            "  Downloading jaxtyping-0.2.25-py3-none-any.whl (39 kB)\n",
            "Requirement already satisfied: typing-extensions>=4.5.0 in /usr/local/lib/python3.10/dist-packages (from lineax) (4.5.0)\n",
            "Requirement already satisfied: ml-dtypes>=0.2.0 in /usr/local/lib/python3.10/dist-packages (from jax>=0.4.13->lineax) (0.2.0)\n",
            "Requirement already satisfied: numpy>=1.22 in /usr/local/lib/python3.10/dist-packages (from jax>=0.4.13->lineax) (1.23.5)\n",
            "Requirement already satisfied: opt-einsum in /usr/local/lib/python3.10/dist-packages (from jax>=0.4.13->lineax) (3.3.0)\n",
            "Requirement already satisfied: scipy>=1.9 in /usr/local/lib/python3.10/dist-packages (from jax>=0.4.13->lineax) (1.11.4)\n",
            "Collecting typeguard<3,>=2.13.3 (from jaxtyping>=0.2.20->lineax)\n",
            "  Downloading typeguard-2.13.3-py3-none-any.whl (17 kB)\n",
            "Installing collected packages: typeguard, jaxtyping, equinox, lineax\n",
            "Successfully installed equinox-0.11.3 jaxtyping-0.2.25 lineax-0.0.4 typeguard-2.13.3\n"
          ]
        }
      ]
    },
    {
      "cell_type": "code",
      "source": [
        "import lineax as lx\n",
        "\n",
        "N = 1000\n",
        "key, sim_key = rdm.split(key)\n",
        "A, x, b = sim_sym_linear_system(sim_key, N)\n",
        "\n",
        "A_op = lx.MatrixLinearOperator(A)\n",
        "sol = lx.linear_solve(A_op, b)\n",
        "x_sol = sol.value\n",
        "\n",
        "A_psd_op = lx.MatrixLinearOperator(A, lx.positive_semidefinite_tag)\n",
        "psd_sol = lx.linear_solve(A_psd_op, b)\n",
        "x_psd_sol = psd_sol.value\n",
        "\n",
        "# initialize our CG solver\n",
        "cg_solver = lx.CG(atol=1e-4, rtol=1e-3)\n",
        "y0 = b / jnp.diag(A)\n",
        "cg_sol = lx.linear_solve(A_psd_op, b, solver=cg_solver, options={\"y0\":y0})\n",
        "x_cg_sol = cg_sol.value\n",
        "\n",
        "x_solve = jnpla.solve(A, b)\n",
        "\n",
        "dist_sol = jnpla.norm(x - x_sol)\n",
        "dist_psd = jnpla.norm(x - x_psd_sol)\n",
        "dist_cg = jnpla.norm(x - x_cg_sol)\n",
        "dist_solve = jnpla.norm(x - x_solve)\n",
        "print(f\" dist lineax solve = {dist_sol} | psd lineax solve = {dist_psd} | cg lineax solve = {dist_cg} | jax solve = {dist_solve}\")"
      ],
      "metadata": {
        "colab": {
          "base_uri": "https://localhost:8080/"
        },
        "id": "0amWH5fNOYqA",
        "outputId": "41a72ab2-7bc5-41be-ad5d-82456cbac4c5"
      },
      "execution_count": null,
      "outputs": [
        {
          "output_type": "stream",
          "name": "stdout",
          "text": [
            " dist lineax solve = 2.912448690040037e-05 | psd lineax solve = 3.160273627145216e-05 | cg lineax solve = 9.941316238837317e-05 | jax solve = 2.912448690040037e-05\n"
          ]
        }
      ]
    },
    {
      "cell_type": "code",
      "source": [
        "def sim_linear_reg(key, N, P, r2=0.5):\n",
        "\n",
        "  key, x_key = rdm.split(key)\n",
        "  X = rdm.normal(x_key, shape=(N, P))\n",
        "\n",
        "  key, b_key = rdm.split(key)\n",
        "  beta = rdm.normal(b_key, shape=(P,))\n",
        "\n",
        "  # g = jnp.dot(X, beta)\n",
        "  g = X @ beta\n",
        "  s2g = jnp.var(g)\n",
        "\n",
        "  # back out what s2e is, such that s2g / (s2g + s2e) == h2\n",
        "  s2e = (1 - r2) / r2 * s2g\n",
        "  key, y_key = rdm.split(key)\n",
        "\n",
        "  # add env noise to g, but scale such that var(e) == s2e\n",
        "  y = g + jnp.sqrt(s2e) * rdm.normal(y_key, shape=(N,))\n",
        "  return y, X, beta\n",
        "\n",
        "\n",
        "N, P = 1000, 150\n",
        "key, sim_key = rdm.split(key)\n",
        "y, X, beta = sim_linear_reg(sim_key, N, P)\n",
        "\n",
        "XtX = X.T @ X\n",
        "Xty = X.T @ y\n",
        "\n",
        "# dist func\n",
        "def _dist(sol):\n",
        "  return jnpla.norm(beta - sol.value)\n",
        "\n",
        "X_op = lx.MatrixLinearOperator(X)\n",
        "XtX_op = lx.MatrixLinearOperator(XtX, lx.positive_semidefinite_tag)\n",
        "\n",
        "# 1st: linear operator over `XtX` and solve against Xty\n",
        "sol_1 = lx.linear_solve(XtX_op, Xty)\n",
        "sol_1_dist = _dist(sol_1)\n",
        "\n",
        "# 2nd: linear operator over `X` and solve against `y`\n",
        "sol_2 = lx.linear_solve(X_op, y, solver=lx.AutoLinearSolver(well_posed=False))\n",
        "sol_2_dist = _dist(sol_2)\n",
        "\n",
        "# 3rd: linear operator over `X`, then compose with X.T (ie Xop.T @ Xop) solve against Xty\n",
        "sol_3 = lx.linear_solve(X_op.T @ X_op, Xty)\n",
        "sol_3_dist = _dist(sol_3)\n",
        "\n",
        "# 4th: linear operator over `X` then solve against `y` using NormalCG\n",
        "solver = lx.NormalCG(atol=1e-4, rtol=1e-4)\n",
        "sol_4 = lx.linear_solve(X_op, y, solver=solver)\n",
        "sol_4_dist = _dist(sol_4)\n",
        "print(f\" XtX Xty = {sol_1_dist} | X y = {sol_2_dist} | XtX Xty #2 = {sol_3_dist} | XtX Xty CG = {sol_4_dist}\")"
      ],
      "metadata": {
        "id": "lK54mdzzSKpH",
        "outputId": "2a914c6d-e4e5-4254-ed2d-1b7c3a95dd43",
        "colab": {
          "base_uri": "https://localhost:8080/"
        }
      },
      "execution_count": null,
      "outputs": [
        {
          "output_type": "stream",
          "name": "stdout",
          "text": [
            " XtX Xty = 4.768477916717529 | X y = 4.768476486206055 | XtX Xty #2 = 4.768477916717529 | XtX Xty CG = 4.768479347229004\n"
          ]
        }
      ]
    }
  ]
}