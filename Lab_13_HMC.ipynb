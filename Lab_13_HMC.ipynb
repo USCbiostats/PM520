{
  "nbformat": 4,
  "nbformat_minor": 0,
  "metadata": {
    "colab": {
      "provenance": [],
      "authorship_tag": "ABX9TyPs3uEGdeGJ6hIqy/MxV6w5",
      "include_colab_link": true
    },
    "kernelspec": {
      "name": "python3",
      "display_name": "Python 3"
    },
    "language_info": {
      "name": "python"
    }
  },
  "cells": [
    {
      "cell_type": "markdown",
      "metadata": {
        "id": "view-in-github",
        "colab_type": "text"
      },
      "source": [
        "<a href=\"https://colab.research.google.com/github/USCbiostats/PM520/blob/main/Lab_13_HMC.ipynb\" target=\"_parent\"><img src=\"https://colab.research.google.com/assets/colab-badge.svg\" alt=\"Open In Colab\"/></a>"
      ]
    },
    {
      "cell_type": "markdown",
      "source": [
        "# Don't Stop Me Now, or: Hamiltonian Monte Carlo\n",
        "\n",
        "Most MCMC samplers (e.g. random‑walk Metropolis) suffer from slow exploration in high‑dimensional spaces. [Hamiltonian Monte Carlo](https://en.wikipedia.org/wiki/Hamiltonian_Monte_Carlo) augments your target density\n",
        "$$\n",
        "\\pi(\\theta)\\propto \\exp\\bigl(-U(\\theta)\\bigr)\n",
        "$$\n",
        "with an auxiliary “momentum” variable $p$ to explore with (approximately) energy‑conserving trajectories, reducing random‑walk behaviour.\n",
        "\n",
        "\n",
        "## Hamiltonian dynamics\n",
        "\n",
        "Define\n",
        "$$\n",
        "H(\\theta,p) \\;=\\; U(\\theta)\\;+\\;K(p),\n",
        "$$\n",
        "where\n",
        "- $U(\\theta)=-\\log\\pi(\\theta)$ (“potential energy”),  \n",
        "- $K(p)=\\tfrac12\\,p^T M^{-1}p$ (“kinetic energy”), and $M$ is a chosen mass matrix (often identity).\n",
        "\n",
        "Hamilton’s equations give continuous dynamics:\n",
        "$$\n",
        "\\frac{d\\theta}{dt} = \\frac{\\partial H}{\\partial p} = M^{-1}p,\n",
        "\\qquad\n",
        "\\frac{dp}{dt} = -\\frac{\\partial H}{\\partial \\theta} = -\\nabla U(\\theta).\n",
        "$$\n",
        "These dynamics are **volume‑preserving** and conserve $H$, so if we could simulate them exactly over time $T$, the joint density\n",
        "$\\exp(-H(\\theta,p))$\n",
        "would be invariant.\n",
        "\n",
        "![HMC](https://upload.wikimedia.org/wikipedia/commons/f/fa/Hamiltonian_Monte_Carlo.gif \"hmc\")\n"
      ],
      "metadata": {
        "id": "s4ZRFp5Gjh-S"
      }
    },
    {
      "cell_type": "markdown",
      "source": [
        "## Symplectic integrator: the leapfrog method\n",
        "\n",
        "We cannot solve Hamilton’s equations in closed form in general, so we use a symplectic (volume‑preserving, reversible) discretization.  With step size $\\varepsilon$ and letting $\\nabla U(\\theta)$ denote the gradient:\n",
        "\n",
        "1. Half‑step momentum:\n",
        "   $$\n",
        "   p_{t + \\frac12} \\;=\\; p_t \\;-\\;\\tfrac{\\varepsilon}{2}\\,\\nabla U(\\theta_t),\n",
        "   $$\n",
        "2. Full‑step position:\n",
        "   $$\n",
        "   \\theta_{t+1} \\;=\\; \\theta_t \\;+\\;\\varepsilon\\,M^{-1}p_{t + \\frac12},\n",
        "   $$\n",
        "3. Half‑step momentum:\n",
        "   $$\n",
        "   p_{t+1} \\;=\\; p_{t + \\frac12} \\;-\\;\\tfrac{\\varepsilon}{2}\\,\\nabla U(\\theta_{t+1}).\n",
        "   $$\n",
        "\n",
        "This integrator is reversible and approximately conserves $H$ up to $O(\\varepsilon^2)$."
      ],
      "metadata": {
        "id": "nD6sHzeZnnvi"
      }
    },
    {
      "cell_type": "markdown",
      "source": [
        "## The HMC algorithm\n",
        "\n",
        "Putting it all together, one HMC iteration from current state $\\theta$ is:\n",
        "\n",
        "1. **Sample** a fresh momentum  \n",
        "   $\\displaystyle p\\sim\\mathcal N(0,\\,M)$.\n",
        "2. **Simulate** $L$ leapfrog steps of size $\\varepsilon$ to propose $(\\theta^*, p^*)$.\n",
        "3. **Negate** momentum (makes proposal reversible): $p^*\\leftarrow -p^*$.\n",
        "4. **Metropolis accept/reject** with probability\n",
        "   $$\n",
        "   \\alpha = \\min\\!\\Bigl(1,\\;\\exp\\bigl[-H(\\theta^*,p^*) + H(\\theta,p)\\bigr]\\Bigr).\n",
        "   $$\n",
        "   If accepted, set $\\theta\\leftarrow\\theta^*$, else keep the old $\\theta$.\n",
        "5. **Discard** $p$ and repeat.\n",
        "\n",
        "Key tuning parameters:\n",
        "- Step size $\\varepsilon$ (too large → low acceptance;\n",
        "  too small → slow exploration).\n",
        "- Number of steps $L$ (longer trajectories explore farther but cost more).\n",
        "\n",
        "\n"
      ],
      "metadata": {
        "id": "nKibKVPqnsl4"
      }
    },
    {
      "cell_type": "markdown",
      "source": [
        "## Implementing HMC in JAX via BlackJAX\n",
        "\n",
        "We’ll demonstrate on a two‑dimensional “banana” target,\n",
        "$$\n",
        "\\pi(x,y)\\propto\n",
        "\\exp\\!\\Bigl[-\\bigl(x^2/2 + (y + 0.03\\,x^2 - 3)^2/2\\bigr)\\Bigr].\n",
        "$$"
      ],
      "metadata": {
        "id": "pLSE6aI3nusc"
      }
    },
    {
      "cell_type": "code",
      "execution_count": null,
      "metadata": {
        "id": "mqtEszMMjge-"
      },
      "outputs": [],
      "source": [
        "import jax\n",
        "import jax.numpy as jnp\n",
        "import blackjax\n",
        "\n",
        "# 1. Define log‑density and gradient\n",
        "def logprob(z):\n",
        "    x, y = z\n",
        "    return -0.5*(x**2 + (y + 0.03*x**2 - 3)**2)\n",
        "\n",
        "# Vectorize gradient\n",
        "grad_logprob = jax.grad(logprob)\n",
        "\n",
        "# 2. Set up HMC kernel (identity mass)\n",
        "hmc = blackjax.hmc(grad_logprob)\n",
        "\n",
        "# 3. Initialize\n",
        "key = jax.random.PRNGKey(0)\n",
        "init_position = jnp.array([0.0, 0.0])\n",
        "state = hmc.init(init_position, key)\n",
        "\n",
        "# 4. Run a chain\n",
        "num_samples = 1000\n",
        "step_size = 0.1\n",
        "num_steps = 20\n",
        "\n",
        "def one_step(state, key):\n",
        "    key, subkey = jax.random.split(key)\n",
        "    state, info = hmc.step(state, subkey, step_size, num_steps)\n",
        "    return state, (state.position, info.is_accepted)\n",
        "\n",
        "keys = jax.random.split(key, num_samples)\n",
        "states, (positions, accept) = jax.lax.scan(one_step, state, keys)\n",
        "\n",
        "positions = jnp.stack(positions)  # shape (num_samples, 2)\n",
        "accept_rate = accept.mean()\n",
        "print(\"Acceptance rate:\", accept_rate)\n",
        "\n",
        "\n",
        "import matplotlib.pyplot as plt\n",
        "\n",
        "# Trace plots\n",
        "fig, axes = plt.subplots(2,1, figsize=(6,4), sharex=True)\n",
        "axes[0].plot(positions[:,0]); axes[0].set_ylabel(\"x\")\n",
        "axes[1].plot(positions[:,1]); axes[1].set_ylabel(\"y\")\n",
        "axes[1].set_xlabel(\"Iteration\")\n",
        "\n",
        "# Scatter of samples\n",
        "plt.figure(figsize=(4,4))\n",
        "plt.scatter(positions[:,0], positions[:,1], s=5, alpha=0.5)\n",
        "plt.title(\"Joint scatter of HMC samples\")\n",
        "plt.xlabel(\"x\"); plt.ylabel(\"y\")\n",
        "plt.tight_layout()"
      ]
    },
    {
      "cell_type": "markdown",
      "source": [
        "## 7 – Exercises\n",
        "\n",
        "1. **Tuning step size.** Try $\\varepsilon=0.05,0.2$. How does the acceptance rate and effective sample size change?\n",
        "2. **Changing trajectory length.** Fix $\\varepsilon=0.1$. Try $L=5,50$. What is the trade‑off?\n",
        "3. **Mass matrix.** Implement a diagonal mass matrix $M=\\mathrm{diag}(1,\\,10)$. How does sampling improve?\n",
        "4. **Apply to logistic regression.** Replace the banana target with a Bayesian logistic‐regression posterior on a real or synthetic dataset. Compare to a random‑walk Metropolis baseline.\n",
        "5. **Extension (NUTS).** Study the No‑U‑Turn Sampler: how does it choose $L$ automatically? Try BlackJAX’s `blackjax.nuts`.\n"
      ],
      "metadata": {
        "id": "K9i7JcjzkR55"
      }
    }
  ]
}