{
  "nbformat": 4,
  "nbformat_minor": 0,
  "metadata": {
    "colab": {
      "provenance": [],
      "authorship_tag": "ABX9TyNtb4ZG4IIHmWbVepi1s5/D",
      "include_colab_link": true
    },
    "kernelspec": {
      "name": "python3",
      "display_name": "Python 3"
    },
    "language_info": {
      "name": "python"
    }
  },
  "cells": [
    {
      "cell_type": "markdown",
      "metadata": {
        "id": "view-in-github",
        "colab_type": "text"
      },
      "source": [
        "<a href=\"https://colab.research.google.com/github/USCbiostats/PM520/blob/main/Lab_12_MCMC_BlackJAX.ipynb\" target=\"_parent\"><img src=\"https://colab.research.google.com/assets/colab-badge.svg\" alt=\"Open In Colab\"/></a>"
      ]
    },
    {
      "cell_type": "markdown",
      "source": [],
      "metadata": {
        "id": "12UrCPML9_fV"
      }
    },
    {
      "cell_type": "code",
      "source": [
        "!pip install blackjax"
      ],
      "metadata": {
        "id": "EIj4uu45-Jzd"
      },
      "execution_count": null,
      "outputs": []
    },
    {
      "cell_type": "code",
      "execution_count": null,
      "metadata": {
        "id": "IF_-d-Wp944H"
      },
      "outputs": [],
      "source": [
        "# warm up\n",
        "import matplotlib.pyplot as plt\n",
        "import numpy as np\n",
        "\n",
        "import jax\n",
        "import jax.numpy as jnp\n",
        "import jax.scipy.stats as stats\n",
        "\n",
        "import blackjax\n",
        "\n",
        "\n",
        "seed = 0\n",
        "rng_key = jax.random.key(seed)\n",
        "\n",
        "# set up our density function\n",
        "def logdensity_fn(loc, log_scale, observed=observed):\n",
        "    \"\"\"Univariate Normal\"\"\"\n",
        "    scale = jnp.exp(log_scale)\n",
        "    logpdf = stats.norm.logpdf(observed, loc, scale)\n",
        "    return jnp.sum(logpdf)\n",
        "\n",
        "\n",
        "logdensity = lambda x: logdensity_fn(**x)\n",
        "\n",
        "\n",
        "# kernel params\n",
        "inv_mass_matrix = np.array([0.5, 0.01])\n",
        "num_integration_steps = 60\n",
        "step_size = 1e-3\n",
        "\n",
        "# set up our kernel\n",
        "hmc = blackjax.hmc(logdensity, step_size, inv_mass_matrix, num_integration_steps)\n",
        "\n",
        "# sample from posterior\n",
        "rng_key, sample_key = jax.random.split(rng_key)\n",
        "states = inference_loop(sample_key, hmc_kernel, initial_state, 10_000)\n",
        "\n",
        "mcmc_samples = states.position\n",
        "mcmc_samples[\"scale\"] = jnp.exp(mcmc_samples[\"log_scale\"]).block_until_ready()\n",
        "\n",
        "# visualize results\n",
        "fig, (ax, ax1) = plt.subplots(ncols=2, figsize=(15, 6))\n",
        "ax.plot(mcmc_samples[\"loc\"])\n",
        "ax.set_xlabel(\"Samples\")\n",
        "ax.set_ylabel(\"loc\")\n",
        "\n",
        "ax1.plot(mcmc_samples[\"scale\"])\n",
        "ax1.set_xlabel(\"Samples\")\n",
        "ax1.set_ylabel(\"scale\");"
      ]
    },
    {
      "cell_type": "markdown",
      "source": [
        "## Bayesian Logistic Regression, revisited"
      ],
      "metadata": {
        "id": "9fyyTkS3-9aI"
      }
    },
    {
      "cell_type": "code",
      "source": [
        "import matplotlib.pyplot as plt\n",
        "import jax.numpy as jnp\n",
        "import blackjax\n",
        "\n",
        "from sklearn.datasets import make_biclusters\n",
        "\n",
        "\n",
        "plt.rcParams[\"axes.spines.right\"] = False\n",
        "plt.rcParams[\"axes.spines.top\"] = False\n",
        "plt.rcParams[\"figure.figsize\"] = (12, 8)\n",
        "\n",
        "seed = 0\n",
        "rng_key = jax.random.key(seed)\n",
        "\n",
        "# generate data\n",
        "num_points = 50\n",
        "X, rows, cols = make_biclusters(\n",
        "    (num_points, 2), 2, noise=0.6, random_state=314, minval=-3, maxval=3\n",
        ")\n",
        "y = rows[0] * 1.0  # y[i] = whether point i belongs to cluster 1\n",
        "\n",
        "# visualize data/labels\n",
        "colors = [\"tab:red\" if el else \"tab:blue\" for el in rows[0]]\n",
        "plt.scatter(*X.T, edgecolors=colors, c=\"none\")\n",
        "plt.xlabel(r\"$X_0$\")\n",
        "plt.ylabel(r\"$X_1$\");"
      ],
      "metadata": {
        "id": "clAXExbG_AEW"
      },
      "execution_count": null,
      "outputs": []
    },
    {
      "cell_type": "code",
      "source": [
        "# set up likelihoods\n",
        "\n",
        "Phi = jnp.c_[jnp.ones(num_points)[:, None], X]\n",
        "N, M = Phi.shape\n",
        "\n",
        "\n",
        "def sigmoid(z):\n",
        "    return jnp.exp(z) / (1 + jnp.exp(z))\n",
        "\n",
        "\n",
        "def log_sigmoid(z):\n",
        "    return z - jnp.log(1 + jnp.exp(z))\n",
        "\n",
        "\n",
        "def logdensity_fn(w, alpha=1.0):\n",
        "    \"\"\"The log-probability density function of the posterior distribution of the model.\"\"\"\n",
        "    log_an = log_sigmoid(Phi @ w)\n",
        "    an = Phi @ w\n",
        "    log_likelihood_term = y * log_an + (1 - y) * jnp.log(1 - sigmoid(an))\n",
        "    prior_term = alpha * w @ w / 2\n",
        "\n",
        "    return -prior_term + log_likelihood_term.sum()\n",
        "\n",
        "\n",
        "# sample initial weights, w\n",
        "rng_key, init_key = jax.random.split(rng_key)\n",
        "\n",
        "w0 = jax.random.multivariate_normal(init_key, 0.1 + jnp.zeros(M), jnp.eye(M))\n",
        "rmh = blackjax.rmh(logdensity_fn, blackjax.mcmc.random_walk.normal(jnp.ones(M) * 0.05))\n",
        "initial_state = rmh.init(w0)\n",
        "\n",
        "# set up inference loop\n",
        "def inference_loop(rng_key, kernel, initial_state, num_samples):\n",
        "    @jax.jit\n",
        "    def one_step(state, rng_key):\n",
        "        state, _ = kernel(rng_key, state)\n",
        "        return state, state\n",
        "\n",
        "    keys = jax.random.split(rng_key, num_samples)\n",
        "    _, states = jax.lax.scan(one_step, initial_state, keys)\n",
        "\n",
        "    return states\n",
        "\n",
        "# perform inference and sample\n",
        "rng_key, sample_key = jax.random.split(rng_key)\n",
        "states = inference_loop(sample_key, rmh.step, initial_state, 5_000)"
      ],
      "metadata": {
        "id": "MxNSXAv6_Xbe"
      },
      "execution_count": null,
      "outputs": []
    },
    {
      "cell_type": "code",
      "source": [
        "burnin = 300\n",
        "\n",
        "fig, ax = plt.subplots(1, 3, figsize=(12, 2))\n",
        "for i, axi in enumerate(ax):\n",
        "    axi.plot(states.position[:, i])\n",
        "    axi.set_title(f\"$w_{i}$\")\n",
        "    axi.axvline(x=burnin, c=\"tab:red\")\n",
        "plt.show()"
      ],
      "metadata": {
        "id": "do_74vBK_0vN"
      },
      "execution_count": null,
      "outputs": []
    }
  ]
}