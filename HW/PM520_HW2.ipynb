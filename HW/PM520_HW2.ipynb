{
  "nbformat": 4,
  "nbformat_minor": 0,
  "metadata": {
    "colab": {
      "provenance": [],
      "authorship_tag": "ABX9TyOA2EB7B+TE3z6bstYwrt28",
      "include_colab_link": true
    },
    "kernelspec": {
      "name": "python3",
      "display_name": "Python 3"
    },
    "language_info": {
      "name": "python"
    }
  },
  "cells": [
    {
      "cell_type": "markdown",
      "metadata": {
        "id": "view-in-github",
        "colab_type": "text"
      },
      "source": [
        "<a href=\"https://colab.research.google.com/github/USCbiostats/PM520/blob/main/HW/PM520_HW2.ipynb\" target=\"_parent\"><img src=\"https://colab.research.google.com/assets/colab-badge.svg\" alt=\"Open In Colab\"/></a>"
      ]
    },
    {
      "cell_type": "markdown",
      "source": [
        "# Homework 2. Maximum likelihood & Optimization Crash Course"
      ],
      "metadata": {
        "id": "SB19uPlEpw4u"
      }
    },
    {
      "cell_type": "code",
      "execution_count": null,
      "metadata": {
        "id": "k0RgUYaXfIWf"
      },
      "outputs": [],
      "source": [
        "!pip install lineax"
      ]
    },
    {
      "cell_type": "code",
      "source": [
        "import jax\n",
        "import jax.numpy as jnp\n",
        "import jax.numpy.linalg as jnpla\n",
        "import jax.scipy as jsp\n",
        "import jax.scipy.linalg as jspla"
      ],
      "metadata": {
        "id": "0aNnRcuZfTXi"
      },
      "execution_count": null,
      "outputs": []
    },
    {
      "cell_type": "markdown",
      "source": [
        "## 1. Ordinary least squares (i.e. OLS)\n",
        "OLS is an approach to fit a linear regression model $$y = X \\beta + ɛ,$$\n",
        "such that $\\mathbb{E}[ɛ'ɛ]$ is minimized, where $\\mathbb{E}[ɛ_i]=0$ and\n",
        "$\\mathbb{V}[ɛ_i] = \\sigma^2$, for each $i=1,\\dotsc,n$.\n",
        "\n",
        "1.1 Derive the OLS solution $\\hat{\\beta}$ under the above objective. Show step by step.\n",
        "\n",
        "1.2 Re-write the objective using a likelihood formulation assuming $ɛ_i \\sim N(0, \\sigma^2)$, for each $i=1,\\dotsc,n$.\n",
        "\n",
        "1.3 Derive the OLS solution $\\hat{\\beta}_{MLE}$ using the above objective. Show step by step.\n",
        "\n",
        "1.4 Using [lineax](https://docs.kidger.site/lineax/), implement a solver for OLS."
      ],
      "metadata": {
        "id": "CtLu4_XIfaC8"
      }
    },
    {
      "cell_type": "code",
      "source": [
        "import lineax as lx\n",
        "\n",
        "from jax import Array\n",
        "from jax.typing import ArrayLike\n",
        "\n",
        "\n",
        "def solve_ols(y: ArrayLike, X: ArrayLike) -> Array:\n",
        "  \"\"\"\n",
        "  Solves ordinary least squares using lineax.\n",
        "\n",
        "  y: ArrayLike of observations\n",
        "  X: ArrayLike of covariates\n",
        "\n",
        "  returns: $\\hat{\\beta}$ for OLS\n",
        "  \"\"\"\n",
        "  pass"
      ],
      "metadata": {
        "id": "f4f3welGhtMg"
      },
      "execution_count": null,
      "outputs": []
    },
    {
      "cell_type": "markdown",
      "source": [
        "## 2. Weighted least squares (i.e. WLS)\n",
        "WLS is an approach to fit a slightly more general linear model where, $$y = X \\beta + ɛ,$$ where $\\mathbb{E}[ɛ_i] = 0$ and $\\mathbb{V}[ɛ_i] = \\sigma^2_i$. We can model all variances jointly as $\\mathbb{V}[ɛ] = D$ where $D$ is a diagonal matrix such that $D_{ii} = \\sigma^2_i$.\n",
        "\n",
        "2.1 Write the WLS objective.\n",
        "\n",
        "2.2. Derive the WLS solution $\\hat{\\beta}$ under the above objective. Show step by step.\n",
        "\n",
        "2.3. Re-write the objective using a likelihood formulation assuming $ɛ \\sim N(0, D)$.\n",
        "\n",
        "2.4 Derive the OLS solution $\\hat{\\beta}_{MLE}$ using the above objective. Show step by step.\n",
        "\n",
        "2.5 Using [lineax](https://docs.kidger.site/lineax/), implement a solver for WLS."
      ],
      "metadata": {
        "id": "4sbheXNtiYy0"
      }
    },
    {
      "cell_type": "code",
      "source": [
        "import lineax as lx\n",
        "\n",
        "from jax import Array\n",
        "from jax.typing import ArrayLike\n",
        "\n",
        "\n",
        "def solve_wls(y: ArrayLike, X: ArrayLike, D: ArrayLike) -> Array:\n",
        "  \"\"\"\n",
        "  Solves weighted least squares using lineax.\n",
        "\n",
        "  y: ArrayLike of observations\n",
        "  X: ArrayLike of covariates\n",
        "  D: ArrayLike of weights per observation\n",
        "\n",
        "  returns: $\\hat{\\beta}$ for WLS\n",
        "  \"\"\"\n",
        "  pass"
      ],
      "metadata": {
        "id": "HELjji9HjffX"
      },
      "execution_count": null,
      "outputs": []
    },
    {
      "cell_type": "markdown",
      "source": [
        "## 3. MLE for scalar Poisson observations\n",
        "Given $x_1, \\dotsc, x_n$, assume that $x_i \\sim \\text{Poi}(\\lambda)$ for $i=1,\\dotsc,n$ where $\\text{Poi}(\\lambda)$ is the Poisson distribution with rate $\\lambda$.\n",
        "\n",
        "3.1 Write a likelihood-based formulation of the objective.\n",
        "\n",
        "3.2 Derive the MLE for the above objective. Show step by step.\n",
        "\n",
        "3.3 Implement a function that simulates Poisson distributed data with rate $\\lambda$ using JAX.\n",
        "\n",
        "3.4 Implement a function that computes the MLE $\\hat{\\lambda}$ given observations $x_1, \\dotsc, x_n$."
      ],
      "metadata": {
        "id": "VXwMNL3fkDsf"
      }
    },
    {
      "cell_type": "code",
      "source": [
        "import lineax as lx\n",
        "import jax.random as rdm\n",
        "\n",
        "from jax import Array\n",
        "from jax.typing import ArrayLike\n",
        "\n",
        "\n",
        "def simulate_poisson(key, rate: ArrayLike, n: int) -> Array:\n",
        "  \"\"\"\n",
        "  Simulates Poisson distributed data.\n",
        "\n",
        "  key: PRNGKey to generate\n",
        "  rate: rate specifying the Poisson distribution; can be either a scalar, or\n",
        "    ArrayLike (i.e. unique to each observation)\n",
        "  n: the number of samples to generate\n",
        "\n",
        "  returns: $x_i \\sim \\text{Poi}(\\lambda_i)$\n",
        "  \"\"\"\n",
        "  pass\n",
        "\n",
        "\n",
        "def fit_poisson(x: ArrayLike) -> float:\n",
        "  \"\"\"\n",
        "  Fits Poisson distributed data.\n",
        "\n",
        "  x: ArrayLike observations\n",
        "\n",
        "  returns: estimate of $\\lambda$.\n",
        "  \"\"\"\n",
        "  pass"
      ],
      "metadata": {
        "id": "LY1UCqDBlF7l"
      },
      "execution_count": null,
      "outputs": []
    }
  ]
}