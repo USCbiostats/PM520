{
  "nbformat": 4,
  "nbformat_minor": 0,
  "metadata": {
    "colab": {
      "provenance": [],
      "authorship_tag": "ABX9TyPHDwxbDeNkA0NF3vu2ko7P",
      "include_colab_link": true
    },
    "kernelspec": {
      "name": "python3",
      "display_name": "Python 3"
    },
    "language_info": {
      "name": "python"
    }
  },
  "cells": [
    {
      "cell_type": "markdown",
      "metadata": {
        "id": "view-in-github",
        "colab_type": "text"
      },
      "source": [
        "<a href=\"https://colab.research.google.com/github/USCbiostats/PM520/blob/main/HW/PM520_HW1.ipynb\" target=\"_parent\"><img src=\"https://colab.research.google.com/assets/colab-badge.svg\" alt=\"Open In Colab\"/></a>"
      ]
    },
    {
      "cell_type": "markdown",
      "source": [
        "# Homework 1. Random sampling & re-sampling"
      ],
      "metadata": {
        "id": "r94B4C5cpi8I"
      }
    },
    {
      "cell_type": "markdown",
      "source": [
        "# 1. Jack-knife Estimator\n",
        "Show (i.e. derive) that the Jack-knife estimator for the standard error of the sample mean of $x_1, \\dotsc, x_n$ is equivalent to the classical estimate of the standard error using the unbiased estimator of variance."
      ],
      "metadata": {
        "id": "Ah51mKlM5t-z"
      }
    },
    {
      "cell_type": "markdown",
      "source": [
        "# 2. Linear model simulation\n",
        "In class we defined a function that simulates variables $x$, outcome $y$. Please include its definition here, and use for problems 3, 4."
      ],
      "metadata": {
        "id": "G7TX02bf92rV"
      }
    },
    {
      "cell_type": "markdown",
      "source": [
        "# 3. Just-in time decorator and simple least squares\n",
        "Complete the definition of `simple_least_squares` below, that estimates the effect and its standard error. `@jit` wraps a function to perform just-in-time compilation, which boosts computational performance/speed.\n",
        "\n",
        "Compare the times of with and without JIT\n",
        "Hint: use [`block_until_ready()`](https://jax.readthedocs.io/en/latest/_autosummary/jax.block_until_ready.html) to get correct timing estimates."
      ],
      "metadata": {
        "id": "Bq2qsE137hUK"
      }
    },
    {
      "cell_type": "code",
      "execution_count": null,
      "metadata": {
        "id": "r3OWo_ixyh7Y"
      },
      "outputs": [],
      "source": [
        "import jax\n",
        "\n",
        "from jax import jit\n",
        "\n",
        "\n",
        "def simple_least_squares(x, y):\n",
        "  pass\n",
        "\n",
        "jit_simple_least_squares = jit(simple_least_squares)"
      ]
    },
    {
      "cell_type": "markdown",
      "source": [
        "# 4. Bootstrap\n",
        "Define a function `bootstrap` that computes an emprical 95% confidence interval (e.g., upper and lower) for an estimate from `simple_least_squares` (hint: [`jax.numpy.quantile`](https://jax.readthedocs.io/en/latest/_autosummary/jax.numpy.quantile.html) is your friend).\n",
        "\n",
        "**Bonus points** if you can implement it using `jit`\n",
        "Hint: [`lax.scan`](https://jax.readthedocs.io/en/latest/_autosummary/jax.lax.scan.html) and [`lax.fori_loop`](https://jax.readthedocs.io/en/latest/_autosummary/jax.lax.fori_loop.html) are your friends)."
      ],
      "metadata": {
        "id": "pNGJ7Yij8gBt"
      }
    }
  ]
}